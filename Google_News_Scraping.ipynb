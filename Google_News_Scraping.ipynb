{
 "cells": [
  {
   "cell_type": "markdown",
   "metadata": {},
   "source": [
    "## Use BeautifulSoup to do web scraping"
   ]
  },
  {
   "cell_type": "code",
   "execution_count": null,
   "metadata": {},
   "outputs": [],
   "source": [
    "import requests\n",
    "from bs4 import BeautifulSoup\n",
    "import csv"
   ]
  },
  {
   "cell_type": "code",
   "execution_count": null,
   "metadata": {},
   "outputs": [],
   "source": [
    "url = 'https://news.google.com/search?q=semiconductor%20test%20emerging%20when%3A7d&hl=en-US&gl=US&ceid=US%3Aen'\n",
    "req = requests.get(url)\n",
    "soup = BeautifulSoup(req.content, 'html.parser')\n",
    "parags = soup.find_all('article',{'class':'MQsxIb xTewfe R7GTQ keNKEd j7vNaf Cc0Z5d EjqUne'})"
   ]
  },
  {
   "cell_type": "code",
   "execution_count": null,
   "metadata": {},
   "outputs": [],
   "source": [
    "dictNews = {}\n",
    "for artcl in parags:\n",
    "    title = artcl.h3.text\n",
    "    #print('Title: ',title)\n",
    "    url2 = 'https://news.google.com'+ artcl.a['href'][1:]\n",
    "    req2 = requests.get(url2)\n",
    "    soup2 = BeautifulSoup(req2.content, 'html.parser')\n",
    "    #clean and group news' paragraphs\n",
    "    paragLst = []\n",
    "    for parag in soup2.find_all('p'):\n",
    "        paragClean = parag.text.encode('charmap','ignore').decode('utf-8','ignore').encode('ascii', 'ignore').decode('utf-8','ignore')\n",
    "        #print(paragClean)\n",
    "        paragLst.append(paragClean)\n",
    "    #print(''.join(paragLst))\n",
    "    #print('----------------------------------------------------------------------------------------')\n",
    "    dictNews[title] = ''.join(paragLst)\n",
    "#into csv\n",
    "w = csv.writer(open(\"output2.csv\", \"w\"))\n",
    "for key, val in dictNews.items():\n",
    "  w.writerow([key, val])"
   ]
  },
  {
   "cell_type": "code",
   "execution_count": null,
   "metadata": {},
   "outputs": [],
   "source": []
  }
 ],
 "metadata": {
  "kernelspec": {
   "display_name": "Python 3",
   "language": "python",
   "name": "python3"
  },
  "language_info": {
   "codemirror_mode": {
    "name": "ipython",
    "version": 3
   },
   "file_extension": ".py",
   "mimetype": "text/x-python",
   "name": "python",
   "nbconvert_exporter": "python",
   "pygments_lexer": "ipython3",
   "version": "3.7.4"
  }
 },
 "nbformat": 4,
 "nbformat_minor": 4
}
